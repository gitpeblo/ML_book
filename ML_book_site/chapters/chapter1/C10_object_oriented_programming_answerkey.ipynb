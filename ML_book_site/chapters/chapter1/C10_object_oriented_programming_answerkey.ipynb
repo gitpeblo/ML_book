{
 "cells": [
  {
   "cell_type": "markdown",
   "metadata": {},
   "source": [
    "# Object-oriented Programming in Python <a class=\"tocSkip\">\n",
    "\n",
    "<font size=1>\n",
    "\n",
    "    Paolo Bonfini, 2025. All rights reserved.\n",
    "\n",
    "This work is the intellectual property of `Paolo Bonfini`. All content produced in this notebook is original creation of the author unless specified otherwise. Unauthorized use, reproduction, or distribution of this material, in whole or in part, without explicit permission from the author, is strictly prohibited.\n",
    "</font>\n",
    "\n",
    "<hr style=\"height:0.5px; border:none; color:lightgray; background-color:lightgray;\">\n",
    "\n",
    "This notebook introduces to the concept of \"object-oriented programming\" in Python, and shows how this is applied in `scikit-learn`, which is the main library that will be used during the course.\n",
    "\n",
    "The contents of this class will not be _strictly_ subject to examination, but constitute a fundamental knowledge to understand the rest of the class.  Therefore, make sure that the concepts presented here are within your grasp. "
   ]
  },
  {
   "attachments": {},
   "cell_type": "markdown",
   "metadata": {},
   "source": [
    "# Classes and Objects\n",
    "\n",
    "You can think of **classes** as \"stamps\". <br>\n",
    "Similarly, you can think of **objects** are the things that the stamps can print on a paper.\n",
    "\n",
    "$\\rightarrow$ We usually say that objects are <u>instances</u> of a class\n",
    "\n",
    "<img src=\"images/classes_objects.png\" width=600 style=\"display:block; margin-left:auto; margin-right:auto;\">\n",
    "\n",
    "In other words, a class represents a \"**template**\" that can create an arbitrary number of duplicates (objects) which possess the same structure.\n",
    "\n",
    "Let's have a look at a very basic class _definition_:"
   ]
  },
  {
   "cell_type": "code",
   "execution_count": 1,
   "metadata": {},
   "outputs": [],
   "source": [
    "class Car():\n",
    "    '''\n",
    "    We define a class \"Car\", that we will later use to \"print\" cars.\n",
    "    \n",
    "    NOTE: Class names usually start with upper-case letters, while their\n",
    "          objects use only lower-case letters.\n",
    "    '''    \n",
    "    \n",
    "    def __init__(self, color):\n",
    "        '''\n",
    "        The `__init__` method is used to initialize the properties of the objects.\n",
    "        In this case, we use it to initialize the property \"color\".\n",
    "        \n",
    "        As you can see, this function takes as additional input `self`, which\n",
    "        is a special \"parameter\" saying that we are working with an instance\n",
    "        of a class.\n",
    "        '''    \n",
    "\n",
    "        self.color = color\n",
    "        '''\n",
    "        Here we are saying:\n",
    "            \"Take the input color, and make it an attribute of the object\"\n",
    "        '''"
   ]
  },
  {
   "cell_type": "markdown",
   "metadata": {},
   "source": [
    "Let's see how to <u>instantiate</u> (_create_) an object:"
   ]
  },
  {
   "cell_type": "code",
   "execution_count": 2,
   "metadata": {},
   "outputs": [
    {
     "data": {
      "text/plain": [
       "'red'"
      ]
     },
     "execution_count": 2,
     "metadata": {},
     "output_type": "execute_result"
    }
   ],
   "source": [
    "car_1 = Car('red')\n",
    "'''\n",
    "Notice that the `__init__` method is called implicitly!\n",
    "We passed the color \"red\" to the \"Car\" class, and automatically `Car` forwards\n",
    "it to `__init__`.\n",
    "This always happen when we instatiate an object with some properties.\n",
    "''';\n",
    "\n",
    "# We can access the attributes simply by calling them:\n",
    "car_1.color"
   ]
  },
  {
   "cell_type": "markdown",
   "metadata": {},
   "source": [
    "Objects of a class are _similar_ (after all they come from the same \"printer\"), but **not identical**!\n",
    "\n",
    "Each object has its own properties, e.g.:"
   ]
  },
  {
   "cell_type": "code",
   "execution_count": 3,
   "metadata": {},
   "outputs": [
    {
     "name": "stdout",
     "output_type": "stream",
     "text": [
      "Car 1 is: red\n",
      "Car 2 is: green\n"
     ]
    }
   ],
   "source": [
    "car_2 = Car('green')\n",
    "\n",
    "print('Car 1 is:', car_1.color)\n",
    "print('Car 2 is:', car_2.color)"
   ]
  },
  {
   "cell_type": "code",
   "execution_count": 4,
   "metadata": {},
   "outputs": [
    {
     "data": {
      "text/plain": [
       "__main__.Car"
      ]
     },
     "execution_count": 4,
     "metadata": {},
     "output_type": "execute_result"
    }
   ],
   "source": [
    "type(car_2)"
   ]
  },
  {
   "cell_type": "markdown",
   "metadata": {},
   "source": [
    "Once created, each object can be modified independently from the other objects:"
   ]
  },
  {
   "cell_type": "code",
   "execution_count": 5,
   "metadata": {},
   "outputs": [
    {
     "name": "stdout",
     "output_type": "stream",
     "text": [
      "Car 1 is now: yellow\n",
      "Car 2 is now: purple\n"
     ]
    }
   ],
   "source": [
    "# If you ever played GTA, you know that sometimes you need to change the color\n",
    "# of your car because of ... erhm ... reasons.\n",
    "\n",
    "car_1.color = 'yellow'\n",
    "car_2.color = 'purple'\n",
    "\n",
    "print('Car 1 is now:', car_1.color)\n",
    "print('Car 2 is now:', car_2.color)"
   ]
  },
  {
   "cell_type": "markdown",
   "metadata": {},
   "source": [
    "# Attributes and Methods\n",
    "\n",
    "As we saw, classes contain **attributes**, which are the <u>[modifiable] properties</u> of the objects.\n",
    "\n",
    "But they can also contain **methods**, i.e., <u>functions that operate on the object itself</u>.\n",
    "\n",
    "## Functions VS Methods\n",
    "\n",
    "_To best explain methods, let's compare it againsta a \"classical\" function._\n",
    "\n",
    "Let's first pretend we don't know how to use classes.  Then, to define a car and its color, we can use a _dictionary_."
   ]
  },
  {
   "cell_type": "code",
   "execution_count": 6,
   "metadata": {},
   "outputs": [],
   "source": [
    "car_1 = {'color': 'red'}\n",
    "car_2 = {'color': 'green'}"
   ]
  },
  {
   "cell_type": "markdown",
   "metadata": {},
   "source": [
    "To change a car's color with a **function**, we could simply do this:"
   ]
  },
  {
   "cell_type": "code",
   "execution_count": 7,
   "metadata": {},
   "outputs": [
    {
     "name": "stdout",
     "output_type": "stream",
     "text": [
      "Car 1 is now: yellow\n",
      "Car 2 is now: purple\n"
     ]
    }
   ],
   "source": [
    "def change_car_color(car, new_color):\n",
    "    '''\n",
    "    `car` is the generic input dictionary.\n",
    "    `new_color` is the color we want to change to.\n",
    "    '''\n",
    "    car['color'] = new_color\n",
    "    return car\n",
    "    \n",
    "# Let's apply the function:\n",
    "car_1 = change_car_color(car_1, 'yellow')\n",
    "car_2 = change_car_color(car_2, 'purple')\n",
    "\n",
    "print('Car 1 is now:', car_1['color'])\n",
    "print('Car 2 is now:', car_2['color'])"
   ]
  },
  {
   "cell_type": "markdown",
   "metadata": {},
   "source": [
    "Let's now do the same using a class with a dedicated **method**<br>\n",
    "(_which, afterall, is just a standard function but placed inside a class_)"
   ]
  },
  {
   "cell_type": "code",
   "execution_count": 8,
   "metadata": {},
   "outputs": [
    {
     "name": "stdout",
     "output_type": "stream",
     "text": [
      "Car 1 is now: yellow\n",
      "Car 2 is now: purple\n"
     ]
    }
   ],
   "source": [
    "class Car():\n",
    "\n",
    "    def __init__(self, color):\n",
    "        self.color = color\n",
    "\n",
    "    def change_color(self, new_color):\n",
    "        '''\n",
    "        Notice that now we don't need `car` as an input\n",
    "        --> the method knows that we will apply it to `self`!\n",
    "        '''\n",
    "        self.color = new_color\n",
    "        \n",
    "# Let's instantiate the objects and apply the methods:\n",
    "car_1 = Car('red')\n",
    "car_2 = Car('green')\n",
    "\n",
    "car_1.change_color('yellow')\n",
    "car_2.change_color('purple')\n",
    "'''See? We only need to pass the new color!''';\n",
    "\n",
    "print('Car 1 is now:', car_1.color)\n",
    "print('Car 2 is now:', car_2.color)"
   ]
  },
  {
   "cell_type": "markdown",
   "metadata": {},
   "source": [
    "# Why we need classes?\n",
    "\n",
    "They are <u>convenient</u> $-$ the more you use them, the more you will understand.\n",
    "\n",
    "Here are a few examples.\n",
    "\n",
    "## To compact your code\n",
    "\n",
    "As we saw with the car color, we can place all the code regarding \"cars\" into the `Car` class.\n",
    "\n",
    "> $\\rightarrow$ When we need to search our code for functions applying to cars, <u>we know where to look</u><br>\n",
    "&emsp;&ensp;(_Trust me, this is extremely useful for big projects with lots of code_)\n",
    "\n",
    "> $\\rightarrow$ Allows to create compact documentations as well<br>\n",
    "&emsp;&ensp;(_see later, `scikit-learn` docs_)\n",
    "\n",
    "## To carry around lots of info without re-typing\n",
    "\n",
    "Let's say I want to initialize many objects with the same properties:"
   ]
  },
  {
   "cell_type": "code",
   "execution_count": 9,
   "metadata": {},
   "outputs": [
    {
     "name": "stdout",
     "output_type": "stream",
     "text": [
      "color : teal\n",
      "manifacturer : Hyundai\n",
      "year_production : 1995\n",
      "doors : 4\n",
      "engine : 1400cc\n",
      "power : 100kW\n"
     ]
    }
   ],
   "source": [
    "import numpy as np\n",
    "\n",
    "class Car():\n",
    "    \n",
    "    def __init__(self, color):\n",
    "        self.color = color\n",
    "        self.manifacturer = 'Hyundai'\n",
    "        self.year_production = 1995\n",
    "        self.doors = 4       \n",
    "        self.engine = '1400cc'\n",
    "        self.power = '100kW'\n",
    "\n",
    "# Instantiating 10 cars with random colors:\n",
    "cars = {}\n",
    "for i in range(10):\n",
    "    random_color = np.random.choice(['yellow', 'blue', 'purple', 'teal', 'green'])\n",
    "    cars[i] = Car(random_color)\n",
    "    \n",
    "# Now accessing the attributes of car #5:\n",
    "attributes_and_values = vars(cars[5])\n",
    "#\n",
    "for attribute, value in attributes_and_values.items():\n",
    "    print(attribute, \":\", value)"
   ]
  },
  {
   "cell_type": "markdown",
   "metadata": {},
   "source": [
    "## To easily invoke functions that change with the object\n",
    "\n",
    "_SPOILER: This is the property most exploited by `scikit-learn`._\n",
    "\n",
    "<hr style=\"height:0.5px; border:none; color:lightgray; background-color:lightgray;\">\n",
    "\n",
    "Let's say we want to create a model that changes with $\\alpha$ and $\\beta$, e.g.:\n",
    "$$y = \\alpha x + \\beta$$\n",
    "\n",
    "and assume we want to execute this in a loop of 10 iterations, where $\\alpha$ and $\\beta$ are taken at random.\n",
    "\n",
    "Basically we will have to evaluate 10 slightly-different models (_every couple ($\\alpha$, $\\beta$) give rise to a different model_)\n",
    "\n",
    "We want to\n",
    "1. Inside the loop:\n",
    "    - A) _evaluate each model performance_\n",
    "    - B) _keep the best model we find_\n",
    "2. Outisde the loop:\n",
    "    - _apply a final calculation using the best model we found_"
   ]
  },
  {
   "cell_type": "code",
   "execution_count": null,
   "metadata": {},
   "outputs": [],
   "source": [
    "import numpy as np\n",
    "np.random.seed(42)\n",
    "\n",
    "# Data:\n",
    "class Model():\n",
    "    def __init__(self, alpha, beta):\n",
    "        self.alpha = alpha\n",
    "        self.beta = beta\n",
    "    \n",
    "    def assess_performance(self, x):\n",
    "        '''\n",
    "        Fake method for demonstration purposes.\n",
    "        \n",
    "        Returns a random number between 0 and 1.\n",
    "        '''\n",
    "        return np.random.rand()\n",
    "        \n",
    "    def predict(self, x):\n",
    "        '''\n",
    "        This predicts y by calculating:\n",
    "            alpha * x + beta\n",
    "        \n",
    "        Notice that we do not need to pass `alpha` and `beta`, because we can \n",
    "        already access them via `self` --- And this is the trick!\n",
    "        '''\n",
    "        y = self.alpha * x + self.beta\n",
    "        return y    "
   ]
  },
  {
   "cell_type": "code",
   "execution_count": null,
   "metadata": {},
   "outputs": [],
   "source": [
    "# Some data:\n",
    "x = np.array([5,4,6,4,5,7,3,6,8,3,6,8,3])\n",
    "\n",
    "# Sampling 10 random parameter couples (alpha, beta) and checking for best model:\n",
    "for i in range(10):\n",
    "    alpha = np.random.choice([0,1,2,3,4,5,6,7,8])\n",
    "    beta  = np.random.choice([0,1,2,3,4,5,6,7,8])\n",
    "\n",
    "    model = Model(alpha, beta)\n",
    "    \n",
    "    '''1.A - Evaluate each model performance'''\n",
    "    performance = model.assess_performance(x)\n",
    "\n",
    "    '''1.B - Keep the best model we find'''\n",
    "    # (yes, not the best criterion, it's just an example ...)\n",
    "    if performance > 0.8:\n",
    "        best_model = model\n",
    "\n",
    "'''2 - Apply a final calculation using the best model we found.'''\n",
    "best_model.predict(x)\n",
    "# Notice that `best_model` is itself an instance of class `Model`, therefore\n",
    "# it has a `predict()` method"
   ]
  },
  {
   "cell_type": "markdown",
   "metadata": {},
   "source": [
    "> In this case, we didn't have to keep track of the best `alpha` and `beta`<br>\n",
    "$\\rightarrow$We just had to store `best_model`, and all properties and methods are carried along!"
   ]
  },
  {
   "cell_type": "code",
   "execution_count": null,
   "metadata": {},
   "outputs": [],
   "source": [
    "# Show the selected model's parameters:\n",
    "vars(best_model)"
   ]
  },
  {
   "cell_type": "markdown",
   "metadata": {},
   "source": [
    "<div style=\"border-left: 5px solid #FFA500; background-color: rgba(255, 165, 0, 0.15); padding: 10px; border-radius: 4px; color: inherit;\">\n",
    "\n",
    "<font size=6>**In-class Exercise [30 min]**</font>\n",
    "\n",
    "**Objective:** Write an object-oriented code to manage the customers of an online store.\n",
    "\n",
    "Every time a customer buys a product, the cost of that product increases for _that_ customer.\n",
    "\n",
    "**Task:**  You will be given the _default_ `product_costs`, which are all equal to 1, at the begininning.\n",
    "You will have to do the following.\n",
    "1. Write a class that:\n",
    "    - initializes a customer with the _default_ `product_costs`\n",
    "    - has a `buy()` methodEvery time a customer buys a product, the cost of that product increases for _that_ customer.\n",
    " which takes as an input the name of a product, and the only thing it does is to call for `increase_price()`\n",
    "    - has an `increase_price()` method which  takes as an input the name of a product, and it increases its price by +1\n",
    "<br><br>\n",
    "2. Instantiate a custumer object, and:\n",
    "    - make it \"buy\" 3 times the same product\n",
    "    - display the final price the customer sees\n",
    "\n",
    "**Hints:**\n",
    "- When you invoke internal attributes inside a class, remember to use `self`, e.g.:\n",
    "    `self.product_costs`\n",
    "- The same goes for methods, so when `buy()` calls for `increase_price()`, it should be something like:\n",
    "    `self.increase_price()`\n",
    "</div>"
   ]
  },
  {
   "cell_type": "code",
   "execution_count": null,
   "metadata": {},
   "outputs": [],
   "source": [
    "######################################\n",
    "######################################\n",
    "# Replace \"...\" with the proper code #\n",
    "######################################\n",
    "######################################\n",
    "\n",
    "# product_costs = {'tomatoes': 1, 'phone': 1, 'socks': 1}\n",
    "\n",
    "# class Customer():\n",
    "#     def ... # define __init__() method\n",
    "    \n",
    "#     def ... # define buy() method\n",
    "    \n",
    "#     def ... # define increase_price() method   \n",
    "\n",
    "    \n",
    "# customer = ... # instantiate customer\n",
    " \n",
    "# ... # customer buys 3 times the same product\n",
    "\n",
    "# print('Final cost of products:', ...)"
   ]
  },
  {
   "cell_type": "markdown",
   "metadata": {
    "id": "iD6xkEuvYn8r"
   },
   "source": [
    "<hr style=\"height:0.5px; border:none; color:lightgray; background-color:lightgray;\">\n",
    "\n",
    "_Our solution_"
   ]
  },
  {
   "cell_type": "code",
   "execution_count": null,
   "metadata": {},
   "outputs": [],
   "source": [
    "product_costs = {'tomatoes': 1, 'phone': 1, 'socks': 1}\n",
    "\n",
    "class Customer():\n",
    "    def __init__(self, product_costs):\n",
    "        self.product_costs = product_costs.copy()\n",
    "    \n",
    "    def buy(self, product):\n",
    "#         if product not in self.product_costs.keys():\n",
    "#             return \"Product not available.\"\n",
    "        self.increase_price(product)\n",
    "    \n",
    "    def increase_price(self, product):\n",
    "         self.product_costs[product] += 1\n",
    "            \n",
    "customer = Customer(product_costs)\n",
    "customer.buy('tomatoes')\n",
    "customer.buy('tomatoes')\n",
    "customer.buy('tomatoes')\n",
    "\n",
    "print('Final cost of products:', customer.product_costs)\n",
    "product_costs"
   ]
  },
  {
   "cell_type": "markdown",
   "metadata": {},
   "source": [
    "# Sklearn (a.k.a. scikit-learn)\n",
    "\n",
    "[Scikit-learn](https://scikit-learn.org/stable/) is a python library for Machine Learning and related tasks:\n",
    "\n",
    "- Calssification\n",
    "- Regression\n",
    "- Clustering\n",
    "- Dimensionality Reduction\n",
    "- Model selection\n",
    "- Preprocessing\n",
    "\n",
    "## Classes in sklearn\n",
    "\n",
    "Sklearn is heavily based on object-oriented programming ..."
   ]
  },
  {
   "cell_type": "code",
   "execution_count": null,
   "metadata": {},
   "outputs": [],
   "source": [
    "# Let's generate some random data:\n",
    "X = np.array([[0], [2], [3], [4], [5]])\n",
    "y = [0.2, 0.4, 0.5, 0.8, 0.9]\n",
    "\n",
    "from matplotlib import pyplot as plt\n",
    "plt.figure(figsize=(3,3))\n",
    "plt.scatter(X, y)\n",
    "plt.show()"
   ]
  },
  {
   "cell_type": "code",
   "execution_count": null,
   "metadata": {},
   "outputs": [],
   "source": [
    "from sklearn.linear_model import LinearRegression\n",
    "'''Importing a [sub-]package class (a linear model, in this case).'''\n",
    "\n",
    "model = LinearRegression()\n",
    "'''Instantiating an object of `LinearRegression` class.'''\n",
    "\n",
    "model.fit(X,y)\n",
    "'''Invoking the `fit` method of `LinearRegression`, which will find the best\n",
    "fit line through X and y.'''\n",
    "\n",
    "'''Predicting the y values using the fitted model, using the `predict` method\n",
    "of `LinearRegression` class.'''\n",
    "yhat = model.predict(X)"
   ]
  },
  {
   "cell_type": "code",
   "execution_count": null,
   "metadata": {},
   "outputs": [],
   "source": [
    "# Let's plot data and results:\n",
    "from matplotlib import pyplot as plt\n",
    "plt.figure(figsize=(3,3))\n",
    "plt.scatter(X, y, c='C0', label='original data')\n",
    "plt.scatter(X, yhat, c='tomato', label='predicted values\\nfor the corresponding x')\n",
    "plt.plot(X, yhat, c='tomato', label='model')\n",
    "plt.legend(bbox_to_anchor=(1.1, 1.05))\n",
    "plt.show()"
   ]
  },
  {
   "cell_type": "markdown",
   "metadata": {},
   "source": [
    "<u>NOTE:</u> `sklearn` methods _always_ expect as an input `X` a 2D-array (_`y` may be 1D_).\n",
    "\n",
    "So, when they are not, we need to 'pretend' they are. That is why we defined `X` as:"
   ]
  },
  {
   "cell_type": "code",
   "execution_count": null,
   "metadata": {},
   "outputs": [],
   "source": [
    "X = np.array([[0], [2], [3], [4], [5]])\n",
    "X.shape"
   ]
  },
  {
   "cell_type": "markdown",
   "metadata": {},
   "source": [
    "and not the more \"obvious\":"
   ]
  },
  {
   "cell_type": "code",
   "execution_count": null,
   "metadata": {},
   "outputs": [],
   "source": [
    "X_obvious = np.array([0, 2, 3, 4, 5])\n",
    "X_obvious.shape"
   ]
  },
  {
   "cell_type": "markdown",
   "metadata": {},
   "source": [
    "If we inspect their shapes, we see:"
   ]
  },
  {
   "cell_type": "code",
   "execution_count": null,
   "metadata": {},
   "outputs": [],
   "source": [
    "print('Shape of NOT-sklearn-compliant X:', X_obvious.shape)\n",
    "print('\\tThis array has %s elements' % X_obvious.shape[0])\n",
    "print('Shape of sklearn-compliant X:', X.shape)\n",
    "print('\\tThis array also has %s elements, but each of them has explicit dimension %s' % (X.shape[0], X.shape[1]))"
   ]
  },
  {
   "cell_type": "markdown",
   "metadata": {},
   "source": [
    "It is just a matter of format $-$ in this case they are the **exact same** data. \n",
    "\n",
    "This only matter when X has more than 1 dimension, e.g. is 2D:"
   ]
  },
  {
   "cell_type": "code",
   "execution_count": null,
   "metadata": {},
   "outputs": [],
   "source": [
    "from matplotlib import pyplot as plt\n",
    "fig = plt.figure(figsize=(3,3))\n",
    "ax = fig.add_subplot(projection='3d')\n",
    "ax.view_init(elev=20, azim=20)\n",
    "\n",
    "X = np.array([[0, 0.2], [2.1, 2], [3.5, 3], [4, 4.7], [5.2, 5.9]])\n",
    "y = [0.2, 0.4, 0.5, 0.8, 0.9]\n",
    "\n",
    "ax.scatter(X[:,0], X[:,1], y)\n",
    "\n",
    "ax.set_xlabel('X$_0$')\n",
    "ax.set_ylabel('X$_1$')\n",
    "ax.set_zlabel('y')\n",
    "\n",
    "plt.show()"
   ]
  },
  {
   "cell_type": "markdown",
   "metadata": {},
   "source": [
    "## Sklearn consistency\n",
    "\n",
    "Sklearn is <u>extremely consistent</u> with its syntax and class definitions.\n",
    "\n",
    "For example, all its regression models share the same syntax:"
   ]
  },
  {
   "cell_type": "code",
   "execution_count": null,
   "metadata": {},
   "outputs": [],
   "source": [
    "from sklearn.linear_model import LinearRegression\n",
    "#\n",
    "model = LinearRegression()\n",
    "model.fit(X,y)\n",
    "model.predict(X)\n",
    "\n",
    "# OR: \n",
    "\n",
    "from sklearn.linear_model import Ridge\n",
    "#\n",
    "model = Ridge()\n",
    "model.fit(X, y)\n",
    "model.predict(X)\n",
    "\n",
    "# OR:\n",
    "\n",
    "from sklearn.linear_model import Lasso\n",
    "#\n",
    "model = Lasso()\n",
    "model.fit(X, y)\n",
    "model.predict(X)\n",
    "\n",
    "# etc."
   ]
  },
  {
   "cell_type": "markdown",
   "metadata": {},
   "source": [
    "You start seeing the convenience of using classes.\n",
    "\n",
    "As a user, I only have to remember e.g. to use the `fit` method.\n",
    "It has the same name for every algorithm!"
   ]
  },
  {
   "cell_type": "markdown",
   "metadata": {},
   "source": [
    "## Sklearn main families\n",
    "\n",
    "There are 3 main class families in Sklearn $\\rightarrow$ they share the **same method names**\n",
    "\n",
    "1. **Classifiers and Regressors**\n",
    "    - `fit()`\n",
    "    - `predict()`\n",
    "    - `fit_predict()`\n",
    "    \n",
    "&emsp;&ensp; e.g. `LinearRegression`\n",
    "\n",
    "2. **Transformers** (_for data pre-processing, normalization, etc._)\n",
    "    - `fit()`\n",
    "    - `transform()`\n",
    "    - `fit_transform()`        \n",
    "    - `inverse_transform()`\n",
    "    \n",
    "&emsp;&ensp; e.g. `StandardScaler`\n",
    "\n",
    "3. **Clusterers**<br>\n",
    "    These are more weird: depending on the algorithm they can have/_not_ have:\n",
    "\n",
    "    - `fit()` $\\leftarrow$ always\n",
    "    - `predict()`\n",
    "    - `fit_predict()`\n",
    "    - `transform()`\n",
    "    - `fit_transform()`        \n",
    "    \n",
    "&emsp;&ensp; e.g. `KMeans`    "
   ]
  },
  {
   "cell_type": "markdown",
   "metadata": {},
   "source": [
    "## Let's read a documentation together\n",
    "\n",
    "[`sklearn.cluster.KMeans`](https://scikit-learn.org/stable/modules/generated/sklearn.cluster.KMeans.html#sklearn.cluster.KMeans)\n",
    "\n",
    "Notice:\n",
    "- **usage**\n",
    "- **source**\n",
    "- **parameters** $\\leftarrow$ _they are attributes we set_\n",
    "- **attributes** $\\leftarrow$ _they are attributes the algorithm sets_\n",
    "- **methods**\n"
   ]
  },
  {
   "cell_type": "code",
   "execution_count": null,
   "metadata": {},
   "outputs": [],
   "source": []
  }
 ],
 "metadata": {
  "kernelspec": {
   "display_name": "Python (ML_book)",
   "language": "python",
   "name": "ml_book"
  },
  "language_info": {
   "codemirror_mode": {
    "name": "ipython",
    "version": 3
   },
   "file_extension": ".py",
   "mimetype": "text/x-python",
   "name": "python",
   "nbconvert_exporter": "python",
   "pygments_lexer": "ipython3",
   "version": "3.12.11"
  },
  "nav_menu": {},
  "toc": {
   "base_numbering": 1,
   "nav_menu": {},
   "number_sections": true,
   "sideBar": true,
   "skip_h1_title": false,
   "title_cell": "Table of Contents",
   "title_sidebar": "Contents",
   "toc_cell": false,
   "toc_position": {
    "height": "calc(100% - 180px)",
    "left": "10px",
    "top": "150px",
    "width": "232px"
   },
   "toc_section_display": true,
   "toc_window_display": true
  }
 },
 "nbformat": 4,
 "nbformat_minor": 4
}
